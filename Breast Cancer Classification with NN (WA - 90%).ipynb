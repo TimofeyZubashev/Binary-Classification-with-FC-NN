{
 "cells": [
  {
   "cell_type": "code",
   "execution_count": 272,
   "id": "8ea727ad",
   "metadata": {},
   "outputs": [],
   "source": [
    "import numpy as np\n",
    "import matplotlib.pyplot as plt\n",
    "import pandas as pd\n",
    "import torch\n",
    "from torch import nn"
   ]
  },
  {
   "cell_type": "code",
   "execution_count": 273,
   "id": "11434701",
   "metadata": {},
   "outputs": [],
   "source": [
    "# Imports\n",
    "\n",
    "import pandas as pd\n",
    "import numpy as np\n",
    "import torch\n",
    "from torch import nn\n",
    "\n",
    "# Working with Datasets\n",
    "\n",
    "from torch.utils.data import DataLoader\n",
    "from torch.utils.data import Dataset\n",
    "\n",
    "# XZ\n",
    "import os\n",
    "import pandas as pd\n",
    "from torchvision.io import read_image\n",
    "from tqdm import tqdm\n",
    "\n",
    "# Datasets\n",
    "\n",
    "from torchvision.datasets import FashionMNIST\n",
    "from torchvision.transforms import Resize\n",
    "\n",
    "# Optimizer\n",
    "\n",
    "from torch.optim import Adam\n",
    "\n",
    "# Visualisation\n",
    "\n",
    "import matplotlib.pyplot as plt\n",
    "from matplotlib.pyplot import imshow\n",
    "import torchvision.transforms as T\n",
    "from torchvision.utils import draw_bounding_boxes\n",
    "from IPython.display import clear_output"
   ]
  },
  {
   "cell_type": "markdown",
   "id": "1f23586d",
   "metadata": {},
   "source": [
    "# Подготовим Dataset / Train / Test"
   ]
  },
  {
   "cell_type": "code",
   "execution_count": 286,
   "id": "78b9eb6e",
   "metadata": {},
   "outputs": [],
   "source": [
    "from sklearn.datasets import load_breast_cancer"
   ]
  },
  {
   "cell_type": "code",
   "execution_count": 287,
   "id": "2aaf8330",
   "metadata": {},
   "outputs": [],
   "source": [
    "cancer_dataset = load_breast_cancer()"
   ]
  },
  {
   "cell_type": "code",
   "execution_count": 288,
   "id": "ed73979b",
   "metadata": {},
   "outputs": [],
   "source": [
    "cancer_df = pd.DataFrame(np.c_[cancer_dataset['data'],cancer_dataset['target']],\n",
    "             columns = np.append(cancer_dataset['feature_names'], ['target']))"
   ]
  },
  {
   "cell_type": "code",
   "execution_count": 289,
   "id": "aa776c25",
   "metadata": {},
   "outputs": [
    {
     "data": {
      "text/html": [
       "<div>\n",
       "<style scoped>\n",
       "    .dataframe tbody tr th:only-of-type {\n",
       "        vertical-align: middle;\n",
       "    }\n",
       "\n",
       "    .dataframe tbody tr th {\n",
       "        vertical-align: top;\n",
       "    }\n",
       "\n",
       "    .dataframe thead th {\n",
       "        text-align: right;\n",
       "    }\n",
       "</style>\n",
       "<table border=\"1\" class=\"dataframe\">\n",
       "  <thead>\n",
       "    <tr style=\"text-align: right;\">\n",
       "      <th></th>\n",
       "      <th>mean radius</th>\n",
       "      <th>mean texture</th>\n",
       "      <th>mean perimeter</th>\n",
       "      <th>mean area</th>\n",
       "      <th>mean smoothness</th>\n",
       "      <th>mean compactness</th>\n",
       "      <th>mean concavity</th>\n",
       "      <th>mean concave points</th>\n",
       "      <th>mean symmetry</th>\n",
       "      <th>mean fractal dimension</th>\n",
       "      <th>...</th>\n",
       "      <th>worst texture</th>\n",
       "      <th>worst perimeter</th>\n",
       "      <th>worst area</th>\n",
       "      <th>worst smoothness</th>\n",
       "      <th>worst compactness</th>\n",
       "      <th>worst concavity</th>\n",
       "      <th>worst concave points</th>\n",
       "      <th>worst symmetry</th>\n",
       "      <th>worst fractal dimension</th>\n",
       "      <th>target</th>\n",
       "    </tr>\n",
       "  </thead>\n",
       "  <tbody>\n",
       "    <tr>\n",
       "      <th>0</th>\n",
       "      <td>17.99</td>\n",
       "      <td>10.38</td>\n",
       "      <td>122.80</td>\n",
       "      <td>1001.0</td>\n",
       "      <td>0.11840</td>\n",
       "      <td>0.27760</td>\n",
       "      <td>0.3001</td>\n",
       "      <td>0.14710</td>\n",
       "      <td>0.2419</td>\n",
       "      <td>0.07871</td>\n",
       "      <td>...</td>\n",
       "      <td>17.33</td>\n",
       "      <td>184.60</td>\n",
       "      <td>2019.0</td>\n",
       "      <td>0.1622</td>\n",
       "      <td>0.6656</td>\n",
       "      <td>0.7119</td>\n",
       "      <td>0.2654</td>\n",
       "      <td>0.4601</td>\n",
       "      <td>0.11890</td>\n",
       "      <td>0.0</td>\n",
       "    </tr>\n",
       "    <tr>\n",
       "      <th>1</th>\n",
       "      <td>20.57</td>\n",
       "      <td>17.77</td>\n",
       "      <td>132.90</td>\n",
       "      <td>1326.0</td>\n",
       "      <td>0.08474</td>\n",
       "      <td>0.07864</td>\n",
       "      <td>0.0869</td>\n",
       "      <td>0.07017</td>\n",
       "      <td>0.1812</td>\n",
       "      <td>0.05667</td>\n",
       "      <td>...</td>\n",
       "      <td>23.41</td>\n",
       "      <td>158.80</td>\n",
       "      <td>1956.0</td>\n",
       "      <td>0.1238</td>\n",
       "      <td>0.1866</td>\n",
       "      <td>0.2416</td>\n",
       "      <td>0.1860</td>\n",
       "      <td>0.2750</td>\n",
       "      <td>0.08902</td>\n",
       "      <td>0.0</td>\n",
       "    </tr>\n",
       "    <tr>\n",
       "      <th>2</th>\n",
       "      <td>19.69</td>\n",
       "      <td>21.25</td>\n",
       "      <td>130.00</td>\n",
       "      <td>1203.0</td>\n",
       "      <td>0.10960</td>\n",
       "      <td>0.15990</td>\n",
       "      <td>0.1974</td>\n",
       "      <td>0.12790</td>\n",
       "      <td>0.2069</td>\n",
       "      <td>0.05999</td>\n",
       "      <td>...</td>\n",
       "      <td>25.53</td>\n",
       "      <td>152.50</td>\n",
       "      <td>1709.0</td>\n",
       "      <td>0.1444</td>\n",
       "      <td>0.4245</td>\n",
       "      <td>0.4504</td>\n",
       "      <td>0.2430</td>\n",
       "      <td>0.3613</td>\n",
       "      <td>0.08758</td>\n",
       "      <td>0.0</td>\n",
       "    </tr>\n",
       "    <tr>\n",
       "      <th>3</th>\n",
       "      <td>11.42</td>\n",
       "      <td>20.38</td>\n",
       "      <td>77.58</td>\n",
       "      <td>386.1</td>\n",
       "      <td>0.14250</td>\n",
       "      <td>0.28390</td>\n",
       "      <td>0.2414</td>\n",
       "      <td>0.10520</td>\n",
       "      <td>0.2597</td>\n",
       "      <td>0.09744</td>\n",
       "      <td>...</td>\n",
       "      <td>26.50</td>\n",
       "      <td>98.87</td>\n",
       "      <td>567.7</td>\n",
       "      <td>0.2098</td>\n",
       "      <td>0.8663</td>\n",
       "      <td>0.6869</td>\n",
       "      <td>0.2575</td>\n",
       "      <td>0.6638</td>\n",
       "      <td>0.17300</td>\n",
       "      <td>0.0</td>\n",
       "    </tr>\n",
       "  </tbody>\n",
       "</table>\n",
       "<p>4 rows × 31 columns</p>\n",
       "</div>"
      ],
      "text/plain": [
       "   mean radius  mean texture  mean perimeter  mean area  mean smoothness  \\\n",
       "0        17.99         10.38          122.80     1001.0          0.11840   \n",
       "1        20.57         17.77          132.90     1326.0          0.08474   \n",
       "2        19.69         21.25          130.00     1203.0          0.10960   \n",
       "3        11.42         20.38           77.58      386.1          0.14250   \n",
       "\n",
       "   mean compactness  mean concavity  mean concave points  mean symmetry  \\\n",
       "0           0.27760          0.3001              0.14710         0.2419   \n",
       "1           0.07864          0.0869              0.07017         0.1812   \n",
       "2           0.15990          0.1974              0.12790         0.2069   \n",
       "3           0.28390          0.2414              0.10520         0.2597   \n",
       "\n",
       "   mean fractal dimension  ...  worst texture  worst perimeter  worst area  \\\n",
       "0                 0.07871  ...          17.33           184.60      2019.0   \n",
       "1                 0.05667  ...          23.41           158.80      1956.0   \n",
       "2                 0.05999  ...          25.53           152.50      1709.0   \n",
       "3                 0.09744  ...          26.50            98.87       567.7   \n",
       "\n",
       "   worst smoothness  worst compactness  worst concavity  worst concave points  \\\n",
       "0            0.1622             0.6656           0.7119                0.2654   \n",
       "1            0.1238             0.1866           0.2416                0.1860   \n",
       "2            0.1444             0.4245           0.4504                0.2430   \n",
       "3            0.2098             0.8663           0.6869                0.2575   \n",
       "\n",
       "   worst symmetry  worst fractal dimension  target  \n",
       "0          0.4601                  0.11890     0.0  \n",
       "1          0.2750                  0.08902     0.0  \n",
       "2          0.3613                  0.08758     0.0  \n",
       "3          0.6638                  0.17300     0.0  \n",
       "\n",
       "[4 rows x 31 columns]"
      ]
     },
     "execution_count": 289,
     "metadata": {},
     "output_type": "execute_result"
    }
   ],
   "source": [
    "cancer_df.head(4)"
   ]
  },
  {
   "cell_type": "code",
   "execution_count": 290,
   "id": "e776f756",
   "metadata": {},
   "outputs": [
    {
     "data": {
      "text/plain": [
       "1.0    357\n",
       "0.0    212\n",
       "Name: target, dtype: int64"
      ]
     },
     "execution_count": 290,
     "metadata": {},
     "output_type": "execute_result"
    }
   ],
   "source": [
    "# Lets check target distribution\n",
    "cancer_df['target'].value_counts()"
   ]
  },
  {
   "cell_type": "code",
   "execution_count": 291,
   "id": "82c0891b",
   "metadata": {},
   "outputs": [],
   "source": [
    "# prepare train and test\n",
    "\n",
    "from sklearn.model_selection import train_test_split"
   ]
  },
  {
   "cell_type": "code",
   "execution_count": 292,
   "id": "3716006e",
   "metadata": {},
   "outputs": [],
   "source": [
    "X = cancer_df.drop(\"target\", axis = 1)\n",
    "Y = cancer_df['target']"
   ]
  },
  {
   "cell_type": "code",
   "execution_count": 293,
   "id": "c3a2902c",
   "metadata": {},
   "outputs": [],
   "source": [
    "X_train, X_test, y_train, y_test = train_test_split(X, Y, test_size=0.33, random_state=42)"
   ]
  },
  {
   "cell_type": "markdown",
   "id": "f3ba59bd",
   "metadata": {},
   "source": [
    "# Подготовим DataSet и DataLoader"
   ]
  },
  {
   "cell_type": "code",
   "execution_count": 294,
   "id": "7f3a1f57",
   "metadata": {},
   "outputs": [],
   "source": [
    "from torch.utils.data import Dataset\n",
    "from torch.utils.data import DataLoader"
   ]
  },
  {
   "cell_type": "code",
   "execution_count": 295,
   "id": "555b9f7b",
   "metadata": {},
   "outputs": [],
   "source": [
    "class Custom_DataSet(Dataset):\n",
    "    \n",
    "    def __init__(self, x_train,y_train):\n",
    "        self.X = torch.tensor(x_train.values,dtype = torch.float32)\n",
    "        self.Y = torch.tensor(y_train.values,dtype = torch.float32)\n",
    "        #self.Y = [torch.tensor([1, 0],dtype = torch.float32) if e == 0 else torch.tensor([0, 1],dtype = torch.float32) for e in self.Y]\n",
    "    def __len__(self):\n",
    "        return len(self.Y)\n",
    "\n",
    "    def __getitem__(self, item):\n",
    "        return self.X[item], self.Y[item]"
   ]
  },
  {
   "cell_type": "code",
   "execution_count": 296,
   "id": "7b54908b",
   "metadata": {},
   "outputs": [],
   "source": [
    "train_dataset = Custom_DataSet(X_train,y_train)\n",
    "test_dataset = Custom_DataSet(X_test,y_test)"
   ]
  },
  {
   "cell_type": "code",
   "execution_count": 297,
   "id": "934a82ce",
   "metadata": {},
   "outputs": [],
   "source": [
    "train_dataloader = DataLoader(train_dataset,batch_size = 8)\n",
    "test_dataloader =  DataLoader(test_dataset,batch_size = 8)"
   ]
  },
  {
   "cell_type": "markdown",
   "id": "36e5c035",
   "metadata": {},
   "source": [
    "# Создадим архитектуру нейронной сети"
   ]
  },
  {
   "cell_type": "code",
   "execution_count": 298,
   "id": "dc9eb9fd",
   "metadata": {},
   "outputs": [],
   "source": [
    "x_s,y_s = next(iter(train_dataloader))"
   ]
  },
  {
   "cell_type": "markdown",
   "id": "33aa3ad9",
   "metadata": {},
   "source": [
    "# Создаем опитимазйер и определяем функцию потерь"
   ]
  },
  {
   "cell_type": "code",
   "execution_count": 411,
   "id": "a1268702",
   "metadata": {
    "scrolled": true
   },
   "outputs": [],
   "source": [
    "from torch.optim import Adam\n",
    "from torch.optim.lr_scheduler import StepLR\n",
    "\n",
    "class Model_1(nn.Module):\n",
    "    def __init__(self):\n",
    "        super().__init__()\n",
    "        self.major = nn.Sequential(\n",
    "            nn.Linear(30, 20), nn.ReLU(),\n",
    "            nn.Dropout1d(p = 0.2),\n",
    "            nn.Linear(20, 10), nn.ReLU(),\n",
    "            nn.Linear(10, 5), nn.ReLU(),\n",
    "            nn.Linear(5, 1), nn.Sigmoid())\n",
    "\n",
    "    def forward(self, x):\n",
    "        x = self.major(x)\n",
    "        return x\n",
    "\n",
    "    \n",
    "model = Model_1()\n",
    "\n",
    "loss_fn = nn.BCELoss()\n",
    "optimizer = Adam(model.parameters(), lr=1e-3)\n",
    "scheduler = StepLR(optimizer, step_size=90)\n",
    "\n",
    "# ---------------------------------------------\n",
    "\n",
    "\n",
    "def train(model):\n",
    "    model.train()\n",
    "    \n",
    "    loss_list = []\n",
    "    total_loss = 0\n",
    "    total_obj = 0\n",
    "    correct = 0\n",
    "    \n",
    "    # Distribution collection\n",
    "    \n",
    "    zero_box = []\n",
    "    one_box = []\n",
    "    \n",
    "    # Store predicted classess\n",
    "    all_predicted_classes = []\n",
    "    \n",
    "    for x, y in tqdm(train_dataloader, desc=\"Training\"):\n",
    "        \n",
    "        optimizer.zero_grad()\n",
    "        \n",
    "        output = model(x)\n",
    "        output = output.resize(len(y))\n",
    "        \n",
    "        # Distirbution collection\n",
    "        for i in zip(output,y):\n",
    "            if i[1].item() == 0:\n",
    "                zero_box.append(i[0].item())\n",
    "            else:\n",
    "                one_box.append(i[0].item())\n",
    "                \n",
    "        # Predicted classes\n",
    "        predicted_classes = [1 if i >= 0.5 else 0 for i in output]\n",
    "                \n",
    "        loss = loss_fn(output, y)\n",
    "        loss.backward()     \n",
    "        optimizer.step()\n",
    "        \n",
    "        loss_list.append(loss.item())\n",
    "        total_loss += loss.item()\n",
    "        \n",
    "        total_obj += len(y)\n",
    "        \n",
    "        correct += sum(y.numpy() == predicted_classes).item()\n",
    "        \n",
    "        # Schedular\n",
    "        scheduler.step()\n",
    "    \n",
    "    total_loss /= len(train_dataloader)\n",
    "    accuracy = correct / total_obj\n",
    "    \n",
    "    # Create dictionary\n",
    "    \n",
    "    d = {0:zero_box,1:one_box}\n",
    "    \n",
    "    return total_loss, d, accuracy"
   ]
  },
  {
   "cell_type": "code",
   "execution_count": 412,
   "id": "58f425f4",
   "metadata": {
    "scrolled": true
   },
   "outputs": [
    {
     "name": "stderr",
     "output_type": "stream",
     "text": [
      "Training: 100%|█| 48/48 \n",
      "Training: 100%|█| 48/48 \n",
      "Training: 100%|█| 48/48 \n",
      "Training: 100%|█| 48/48 \n",
      "Training: 100%|█| 48/48 \n",
      "Training: 100%|█| 48/48 \n",
      "Training: 100%|█| 48/48 \n",
      "Training: 100%|█| 48/48 \n",
      "Training: 100%|█| 48/48 \n",
      "Training: 100%|█| 48/48 \n",
      "Training: 100%|█| 48/48 \n",
      "Training: 100%|█| 48/48 \n",
      "Training: 100%|█| 48/48 \n",
      "Training: 100%|█| 48/48 \n",
      "Training: 100%|█| 48/48 \n",
      "Training: 100%|█| 48/48 \n",
      "Training: 100%|█| 48/48 \n",
      "Training: 100%|█| 48/48 \n",
      "Training: 100%|█| 48/48 \n",
      "Training: 100%|█| 48/48 \n",
      "Training: 100%|█| 48/48 \n",
      "Training: 100%|█| 48/48 \n",
      "Training: 100%|█| 48/48 \n",
      "Training: 100%|█| 48/48 \n",
      "Training: 100%|█| 48/48 \n",
      "Training: 100%|█| 48/48 \n",
      "Training: 100%|█| 48/48 \n",
      "Training: 100%|█| 48/48 \n",
      "Training: 100%|█| 48/48 \n",
      "Training: 100%|█| 48/48 \n",
      "Training: 100%|█| 48/48 \n",
      "Training: 100%|█| 48/48 \n",
      "Training: 100%|█| 48/48 \n",
      "Training: 100%|█| 48/48 \n",
      "Training: 100%|█| 48/48 \n",
      "Training: 100%|█| 48/48 \n",
      "Training: 100%|█| 48/48 \n",
      "Training: 100%|█| 48/48 \n",
      "Training: 100%|█| 48/48 \n",
      "Training: 100%|█| 48/48 \n",
      "Training: 100%|█| 48/48 \n",
      "Training: 100%|█| 48/48 \n",
      "Training: 100%|█| 48/48 \n",
      "Training: 100%|█| 48/48 \n",
      "Training: 100%|█| 48/48 \n",
      "Training: 100%|█| 48/48 \n",
      "Training: 100%|█| 48/48 \n",
      "Training: 100%|█| 48/48 \n",
      "Training: 100%|█| 48/48 \n",
      "Training: 100%|█| 48/48 \n",
      "Training: 100%|█| 48/48 \n",
      "Training: 100%|█| 48/48 \n",
      "Training: 100%|█| 48/48 \n",
      "Training: 100%|█| 48/48 \n",
      "Training: 100%|█| 48/48 \n",
      "Training: 100%|█| 48/48 \n",
      "Training: 100%|█| 48/48 \n",
      "Training: 100%|█| 48/48 \n",
      "Training: 100%|█| 48/48 \n",
      "Training: 100%|█| 48/48 \n",
      "Training: 100%|█| 48/48 \n",
      "Training: 100%|█| 48/48 \n",
      "Training: 100%|█| 48/48 \n",
      "Training: 100%|█| 48/48 \n",
      "Training: 100%|█| 48/48 \n",
      "Training: 100%|█| 48/48 \n",
      "Training: 100%|█| 48/48 \n",
      "Training: 100%|█| 48/48 \n",
      "Training: 100%|█| 48/48 \n",
      "Training: 100%|█| 48/48 \n",
      "Training: 100%|█| 48/48 \n",
      "Training: 100%|█| 48/48 \n",
      "Training: 100%|█| 48/48 \n",
      "Training: 100%|█| 48/48 \n",
      "Training: 100%|█| 48/48 \n",
      "Training: 100%|█| 48/48 \n",
      "Training: 100%|█| 48/48 \n",
      "Training: 100%|█| 48/48 \n",
      "Training: 100%|█| 48/48 \n",
      "Training: 100%|█| 48/48 \n",
      "Training: 100%|█| 48/48 \n",
      "Training: 100%|█| 48/48 \n",
      "Training: 100%|█| 48/48 \n",
      "Training: 100%|█| 48/48 \n",
      "Training: 100%|█| 48/48 \n",
      "Training: 100%|█| 48/48 \n",
      "Training: 100%|█| 48/48 \n",
      "Training: 100%|█| 48/48 \n",
      "Training: 100%|█| 48/48 \n",
      "Training: 100%|█| 48/48 \n",
      "Training: 100%|█| 48/48 \n",
      "Training: 100%|█| 48/48 \n",
      "Training: 100%|█| 48/48 \n",
      "Training: 100%|█| 48/48 \n",
      "Training: 100%|█| 48/48 \n",
      "Training: 100%|█| 48/48 \n",
      "Training: 100%|█| 48/48 \n",
      "Training: 100%|█| 48/48 \n",
      "Training: 100%|█| 48/48 \n",
      "Training: 100%|█| 48/48 \n",
      "Training: 100%|█| 48/48 \n",
      "Training: 100%|█| 48/48 \n",
      "Training: 100%|█| 48/48 \n",
      "Training: 100%|█| 48/48 \n",
      "Training: 100%|█| 48/48 \n",
      "Training: 100%|█| 48/48 \n",
      "Training: 100%|█| 48/48 \n",
      "Training: 100%|█| 48/48 \n",
      "Training: 100%|█| 48/48 \n",
      "Training: 100%|█| 48/48 \n"
     ]
    }
   ],
   "source": [
    "ll = []\n",
    "acc_list = []\n",
    "for epoch in range(110):\n",
    "    loss,_, acc = train(model)\n",
    "    \n",
    "    ll.append(loss)\n",
    "    acc_list.append(acc)"
   ]
  },
  {
   "cell_type": "code",
   "execution_count": 413,
   "id": "cbca4950",
   "metadata": {},
   "outputs": [
    {
     "data": {
      "text/plain": [
       "[<matplotlib.lines.Line2D at 0x7ff5a1e57c40>]"
      ]
     },
     "execution_count": 413,
     "metadata": {},
     "output_type": "execute_result"
    },
    {
     "data": {
      "image/png": "[encoded data removed]",
      "text/plain": [
       "<Figure size 1000x500 with 2 Axes>"
      ]
     },
     "metadata": {},
     "output_type": "display_data"
    }
   ],
   "source": [
    "plt.figure(figsize = (10,5))\n",
    "plt.subplot(1,2,1)\n",
    "plt.title(\"Accuracy\")\n",
    "plt.plot(acc_list)\n",
    "plt.subplot(1,2,2)\n",
    "plt.title(\"Total Loss\")\n",
    "plt.plot(ll)"
   ]
  },
  {
   "cell_type": "code",
   "execution_count": 414,
   "id": "535c4e8a",
   "metadata": {},
   "outputs": [],
   "source": [
    "@torch.inference_mode()\n",
    "def evaluate(model):\n",
    "    model.eval()\n",
    "    \n",
    "    total_obj = 0\n",
    "    total_loss = []\n",
    "    correct = 0\n",
    "    y_true_list = []\n",
    "    prediction_list = []\n",
    "    \n",
    "    for x,y in tqdm(train_dataloader, desc=\"Evaluation\"):\n",
    "        \n",
    "        # Saving True values of y_true\n",
    "        y_true_list += y.numpy().tolist()\n",
    "        \n",
    "        output = model.forward(x)\n",
    "        output = output.resize(len(y))\n",
    "        \n",
    "        # Predicted classes\n",
    "        predicted_classes = [1 if i >= 0.5 else 0 for i in output]\n",
    "        prediction_list += predicted_classes\n",
    "        \n",
    "        loss = loss_fn(output, y)\n",
    "        \n",
    "        correct += sum(y.numpy() == predicted_classes).item()\n",
    "        total_obj+= len(y)\n",
    "        total_loss += [loss.item()]\n",
    "    \n",
    "    \n",
    "    # calcualte metrics\n",
    "    accuracy = correct / total_obj\n",
    "    \n",
    "    return total_loss, accuracy, y_true_list, prediction_list"
   ]
  },
  {
   "cell_type": "code",
   "execution_count": 415,
   "id": "48581eec",
   "metadata": {},
   "outputs": [
    {
     "name": "stderr",
     "output_type": "stream",
     "text": [
      "Evaluation: 100%|█| 48/4"
     ]
    },
    {
     "name": "stdout",
     "output_type": "stream",
     "text": [
      "0.9028871391076115\n"
     ]
    },
    {
     "name": "stderr",
     "output_type": "stream",
     "text": [
      "\n"
     ]
    }
   ],
   "source": [
    "ll_list, acc, y_true_list, prediction_list = evaluate(model)\n",
    "print(acc)"
   ]
  },
  {
   "cell_type": "code",
   "execution_count": 416,
   "id": "0ae450c8",
   "metadata": {},
   "outputs": [
    {
     "data": {
      "text/plain": [
       "Text(0.5, 23.52222222222222, 'Model output')"
      ]
     },
     "execution_count": 416,
     "metadata": {},
     "output_type": "execute_result"
    },
    {
     "data": {
      "image/png": "[encoded data removed]",
      "text/plain": [
       "<Figure size 640x480 with 2 Axes>"
      ]
     },
     "metadata": {},
     "output_type": "display_data"
    }
   ],
   "source": [
    "from sklearn.metrics import confusion_matrix\n",
    "import seaborn as sns\n",
    "\n",
    "sns.heatmap(confusion_matrix(y_true_list,prediction_list), annot = True, fmt = '')\n",
    "plt.ylabel(\"Real\")\n",
    "plt.xlabel(\"Model output\")"
   ]
  },
  {
   "cell_type": "code",
   "execution_count": 417,
   "id": "e6f4545e",
   "metadata": {},
   "outputs": [],
   "source": [
    "from sklearn.metrics import classification_report"
   ]
  },
  {
   "cell_type": "code",
   "execution_count": 418,
   "id": "2a185366",
   "metadata": {},
   "outputs": [
    {
     "name": "stdout",
     "output_type": "stream",
     "text": [
      "              precision    recall  f1-score   support\n",
      "\n",
      "         0.0       0.93      0.81      0.86       145\n",
      "         1.0       0.89      0.96      0.92       236\n",
      "\n",
      "    accuracy                           0.90       381\n",
      "   macro avg       0.91      0.88      0.89       381\n",
      "weighted avg       0.90      0.90      0.90       381\n",
      "\n"
     ]
    }
   ],
   "source": [
    "# RESULT: Weighted precision 96%  Weighted recall 96% \n",
    "\n",
    "print(classification_report(y_true_list,prediction_list))"
   ]
  },
  {
   "cell_type": "markdown",
   "id": "aa86cbc1",
   "metadata": {},
   "source": [
    "# Cравниваем с классическим catboost классификатором"
   ]
  },
  {
   "cell_type": "code",
   "execution_count": 186,
   "id": "b4001485",
   "metadata": {},
   "outputs": [
    {
     "data": {
      "text/plain": [
       "<catboost.core.CatBoostClassifier at 0x7ff571ac6f70>"
      ]
     },
     "execution_count": 186,
     "metadata": {},
     "output_type": "execute_result"
    }
   ],
   "source": [
    "from catboost import CatBoostClassifier\n",
    "\n",
    "catboost_model = CatBoostClassifier(verbose= False)\n",
    "\n",
    "catboost_model.fit(X_train,y_train)"
   ]
  },
  {
   "cell_type": "code",
   "execution_count": 187,
   "id": "bb8e99a5",
   "metadata": {},
   "outputs": [],
   "source": [
    "prediction = catboost_model.predict(X_test)"
   ]
  },
  {
   "cell_type": "code",
   "execution_count": 188,
   "id": "c4236638",
   "metadata": {},
   "outputs": [
    {
     "name": "stdout",
     "output_type": "stream",
     "text": [
      "              precision    recall  f1-score   support\n",
      "\n",
      "         0.0       0.98      0.94      0.96        67\n",
      "         1.0       0.97      0.99      0.98       121\n",
      "\n",
      "    accuracy                           0.97       188\n",
      "   macro avg       0.98      0.97      0.97       188\n",
      "weighted avg       0.97      0.97      0.97       188\n",
      "\n"
     ]
    }
   ],
   "source": [
    "print(classification_report(y_test,prediction))"
   ]
  }
 ],
 "metadata": {
  "kernelspec": {
   "display_name": "Python 3 (ipykernel)",
   "language": "python",
   "name": "python3"
  },
  "language_info": {
   "codemirror_mode": {
    "name": "ipython",
    "version": 3
   },
   "file_extension": ".py",
   "mimetype": "text/x-python",
   "name": "python",
   "nbconvert_exporter": "python",
   "pygments_lexer": "ipython3",
   "version": "3.9.13"
  }
 },
 "nbformat": 4,
 "nbformat_minor": 5
}
